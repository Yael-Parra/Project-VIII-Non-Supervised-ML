{
  "cells": [
    {
      "cell_type": "markdown",
      "metadata": {
        "id": "C1EQ5G9rQcwE"
      },
      "source": [
        "# Clustering and PCA"
      ]
    },
    {
      "cell_type": "markdown",
      "metadata": {
        "id": "Toc_OzXYQcwH"
      },
      "source": [
        "### Mushroom Dataset\n",
        "\n",
        "Podeis obtener el conjunto de datos en el siguiente enlace:\n",
        "\n",
        "[Mushroom Dataset](https://www.kaggle.com/uciml/mushroom-classification)\n",
        "\n",
        "Como podréis comprobar, hay muchas variables, todas ellas categóricas, por lo que exploraciones con scatterplot no nos serán útiles como en otros casos.\n",
        "\n",
        "La variable a predecir ``class`` es binaria.\n"
      ]
    },
    {
      "cell_type": "markdown",
      "metadata": {
        "id": "BJc845c11KbK"
      },
      "source": []
    },
    {
      "cell_type": "code",
      "execution_count": 19,
      "metadata": {
        "id": "RWIOS2y_QcwH"
      },
      "outputs": [],
      "source": [
        "# Carga de librerías, las que hemos considerado básicas, añadid lo que queráis :)\n",
        "\n",
        "import pandas as pd\n",
        "import numpy as np\n",
        "import seaborn as sns\n",
        "from sklearn.cluster import KMeans\n",
        "import matplotlib.pyplot as plt\n",
        "from sklearn.model_selection import train_test_split\n",
        "from sklearn.decomposition import PCA"
      ]
    },
    {
      "cell_type": "markdown",
      "metadata": {
        "id": "7KbJPDrpQcwI"
      },
      "source": [
        "### Leer conjunto de datos y primer vistazo"
      ]
    },
    {
      "cell_type": "code",
      "execution_count": 20,
      "metadata": {
        "id": "zFJoAIsVQcwI",
        "scrolled": true
      },
      "outputs": [
        {
          "name": "stdout",
          "output_type": "stream",
          "text": [
            "---\n",
            "Primeras 5 filas del DataFrame (formato tabla):\n",
            "| class   | cap-shape   | cap-surface   | cap-color   | bruises   | odor   | gill-attachment   | gill-spacing   | gill-size   | gill-color   | stalk-shape   | stalk-root   | stalk-surface-above-ring   | stalk-surface-below-ring   | stalk-color-above-ring   | stalk-color-below-ring   | veil-type   | veil-color   | ring-number   | ring-type   | spore-print-color   | population   | habitat   |\n",
            "|:--------|:------------|:--------------|:------------|:----------|:-------|:------------------|:---------------|:------------|:-------------|:--------------|:-------------|:---------------------------|:---------------------------|:-------------------------|:-------------------------|:------------|:-------------|:--------------|:------------|:--------------------|:-------------|:----------|\n",
            "| p       | x           | s             | n           | t         | p      | f                 | c              | n           | k            | e             | e            | s                          | s                          | w                        | w                        | p           | w            | o             | p           | k                   | s            | u         |\n",
            "| e       | x           | s             | y           | t         | a      | f                 | c              | b           | k            | e             | c            | s                          | s                          | w                        | w                        | p           | w            | o             | p           | n                   | n            | g         |\n",
            "| e       | b           | s             | w           | t         | l      | f                 | c              | b           | n            | e             | c            | s                          | s                          | w                        | w                        | p           | w            | o             | p           | n                   | n            | m         |\n",
            "| p       | x           | y             | w           | t         | p      | f                 | c              | n           | n            | e             | e            | s                          | s                          | w                        | w                        | p           | w            | o             | p           | k                   | s            | u         |\n",
            "| e       | x           | s             | g           | f         | n      | f                 | w              | b           | k            | t             | e            | s                          | s                          | w                        | w                        | p           | w            | o             | e           | n                   | a            | g         |\n",
            "---\n"
          ]
        }
      ],
      "source": [
        "# Leer el csv y sacar por pantalla las cinco primeras filas.\n",
        "def leer_csv_y_mostrar_5_filas(path):\n",
        "    df = pd.read_csv(path)\n",
        "    print(\"---\") # Separador para una mejor visualización\n",
        "    print(\"Primeras 5 filas del DataFrame (formato tabla):\")\n",
        "    # Mostrar resultado como una tabla Markdown\n",
        "    # Añadimos .to_string() para asegurarnos de que se imprima completo si la terminal lo trunca\n",
        "    # o .to_markdown() para un formato Markdown si lo vas a copiar\n",
        "    # Puedes elegir entre estas dos opciones, to_markdown es más \"bonito\" si el entorno lo soporta\n",
        "    print(df.head().to_markdown(index=False)) # index=False para no mostrar el índice\n",
        "    print(\"---\") # Separador final\n",
        "    return df\n",
        "\n",
        "musrh_path = 'data/raw/mushrooms.csv'\n",
        "df = leer_csv_y_mostrar_5_filas(musrh_path)"
      ]
    },
    {
      "cell_type": "markdown",
      "metadata": {
        "id": "dePM9qXKQcwJ"
      },
      "source": [
        "### Exploración de datos"
      ]
    },
    {
      "cell_type": "code",
      "execution_count": 21,
      "metadata": {
        "id": "45TsUuwkQcwJ"
      },
      "outputs": [
        {
          "name": "stdout",
          "output_type": "stream",
          "text": [
            "---\n",
            "Descripción estadística del DataFrame:\n",
            "|        | class   | cap-shape   | cap-surface   | cap-color   | bruises   | odor   | gill-attachment   | gill-spacing   | gill-size   | gill-color   | stalk-shape   | stalk-root   | stalk-surface-above-ring   | stalk-surface-below-ring   | stalk-color-above-ring   | stalk-color-below-ring   | veil-type   | veil-color   | ring-number   | ring-type   | spore-print-color   | population   | habitat   |\n",
            "|:-------|:--------|:------------|:--------------|:------------|:----------|:-------|:------------------|:---------------|:------------|:-------------|:--------------|:-------------|:---------------------------|:---------------------------|:-------------------------|:-------------------------|:------------|:-------------|:--------------|:------------|:--------------------|:-------------|:----------|\n",
            "| count  | 8124    | 8124        | 8124          | 8124        | 8124      | 8124   | 8124              | 8124           | 8124        | 8124         | 8124          | 8124         | 8124                       | 8124                       | 8124                     | 8124                     | 8124        | 8124         | 8124          | 8124        | 8124                | 8124         | 8124      |\n",
            "| unique | 2       | 6           | 4             | 10          | 2         | 9      | 2                 | 2              | 2           | 12           | 2             | 5            | 4                          | 4                          | 9                        | 9                        | 1           | 4            | 3             | 5           | 9                   | 6            | 7         |\n",
            "| top    | e       | x           | y             | n           | f         | n      | f                 | c              | b           | b            | t             | b            | s                          | s                          | w                        | w                        | p           | w            | o             | p           | w                   | v            | d         |\n",
            "| freq   | 4208    | 3656        | 3244          | 2284        | 4748      | 3528   | 7914              | 6812           | 5612        | 1728         | 4608          | 3776         | 5176                       | 4936                       | 4464                     | 4384                     | 8124        | 7924         | 7488          | 3968        | 2388                | 4040         | 3148      |\n",
            "---\n"
          ]
        }
      ],
      "source": [
        "# Descripción del conjunto de datos, estándard.\n",
        "def descripcion_estadistica(df):\n",
        "    print(\"---\") # Separador para una mejor visualización\n",
        "    print(\"Descripción estadística del DataFrame:\")\n",
        "    # Mostrar descripción estadística\n",
        "    print(df.describe().to_markdown()) # index=False para no mostrar el índice\n",
        "    print(\"---\") # Separador final\n",
        "\n",
        "descripcion_estadistica(df)"
      ]
    },
    {
      "cell_type": "markdown",
      "metadata": {},
      "source": [
        "En la tabla de `df.describe()` para datos categóricos:\n",
        "\n",
        "- **top**: es el valor más frecuente (la \"moda\") de cada columna.\n",
        "- **freq**: es el número de veces que aparece ese valor más frecuente.\n",
        "\n",
        "**Interpretación de resultados:**\n",
        "\n",
        "- En la columna `class`, el valor más frecuente es **'e'** (comestible) y aparece **4208** veces.\n",
        "- En `cap-shape`, el valor más común es **'x'** (forma de sombrero 'convexa') y aparece **3656** veces.\n",
        "- En todas las columnas, puedes ver cuántos valores únicos hay (`unique`), cuál es el valor más común (`top`) y cuántas veces aparece (`freq`).\n",
        "\n",
        "Esto te ayuda a identificar:\n",
        "- Si hay clases desbalanceadas (por ejemplo, si una clase aparece mucho más que otra).\n",
        "- Si alguna columna tiene un valor dominante (poca variabilidad).\n",
        "- Si alguna columna tiene solo un valor único (como `veil-type`, que siempre es 'p'), probablemente no aporta información y se puede eliminar."
      ]
    },
    {
      "cell_type": "code",
      "execution_count": null,
      "metadata": {},
      "outputs": [
        {
          "name": "stdout",
          "output_type": "stream",
          "text": [
            "---\n",
            "Valores nulos en el DataFrame:\n",
            "|                          |   0 |\n",
            "|:-------------------------|----:|\n",
            "| class                    |   0 |\n",
            "| cap-shape                |   0 |\n",
            "| cap-surface              |   0 |\n",
            "| cap-color                |   0 |\n",
            "| bruises                  |   0 |\n",
            "| odor                     |   0 |\n",
            "| gill-attachment          |   0 |\n",
            "| gill-spacing             |   0 |\n",
            "| gill-size                |   0 |\n",
            "| gill-color               |   0 |\n",
            "| stalk-shape              |   0 |\n",
            "| stalk-root               |   0 |\n",
            "| stalk-surface-above-ring |   0 |\n",
            "| stalk-surface-below-ring |   0 |\n",
            "| stalk-color-above-ring   |   0 |\n",
            "| stalk-color-below-ring   |   0 |\n",
            "| veil-type                |   0 |\n",
            "| veil-color               |   0 |\n",
            "| ring-number              |   0 |\n",
            "| ring-type                |   0 |\n",
            "| spore-print-color        |   0 |\n",
            "| population               |   0 |\n",
            "| habitat                  |   0 |\n",
            "---\n"
          ]
        }
      ],
      "source": [
        "# print(\"--- Paso 1: isnull() ---\")\n",
        "def buscar_valores_nulos(df):\n",
        "    print(\"---\") # Separador para una mejor visualización\n",
        "    print(\"Valores nulos en el DataFrame:\")\n",
        "    # Mostrar valores nulos\n",
        "    print(df.isnull().sum().to_markdown()) # index=False para no mostrar el índice\n",
        "    print(\"---\") # Separador final\n",
        "buscar_valores_nulos(df)"
      ]
    },
    {
      "cell_type": "code",
      "execution_count": null,
      "metadata": {},
      "outputs": [
        {
          "name": "stdout",
          "output_type": "stream",
          "text": [
            "\n",
            "--- Paso 2: Cadenas vacías o solo espacios ---\n"
          ]
        }
      ],
      "source": [
        "print(\"\\n--- Paso 2: Cadenas vacías o solo espacios ---\")\n",
        "for col in df.columns:\n",
        "    if df[col].dtype == 'object': # Solo tiene sentido en columnas de tipo objeto (texto)\n",
        "        empty_strings = (df[col] == '').sum()\n",
        "        whitespace_strings = df[col].astype(str).str.isspace().sum() # Convertir a str para evitar errores con np.nan\n",
        "        if empty_strings > 0 or whitespace_strings > 0:\n",
        "            print(f\"Columna '{col}': {empty_strings} cadenas vacías, {whitespace_strings} cadenas con solo espacios\")"
      ]
    },
    {
      "cell_type": "code",
      "execution_count": 26,
      "metadata": {},
      "outputs": [
        {
          "name": "stdout",
          "output_type": "stream",
          "text": [
            "\n",
            "--- Paso 3: Marcadores de missing no estándar ---\n",
            "Columna 'stalk-root': aparecen 2480 valores '?'\n"
          ]
        }
      ],
      "source": [
        "print(\"\\n--- Paso 3: Marcadores de missing no estándar ---\")\n",
        "\n",
        "custom_missing_values = ['N/A', 'NA', '?', '-', 'missing', 'desconocido', 'NaN']\n",
        "\n",
        "for col in df.columns:\n",
        "    for missing_val in custom_missing_values:\n",
        "        count = (df[col].astype(str) == missing_val).sum()\n",
        "        if count > 0:\n",
        "            if missing_val == '?':\n",
        "                print(f\"Columna '{col}': aparecen {count} valores '?'\")\n",
        "            elif missing_val == 'N/A':\n",
        "                print(f\"Columna '{col}': aparecen {count} valores 'N/A'\")\n",
        "            elif missing_val == 'NA':\n",
        "                print(f\"Columna '{col}': aparecen {count} valores 'NA'\")\n",
        "            elif missing_val == '-':\n",
        "                print(f\"Columna '{col}': aparecen {count} valores '-'\")\n",
        "            elif missing_val == 'missing':\n",
        "                print(f\"Columna '{col}': aparecen {count} valores 'missing'\")\n",
        "            elif missing_val == 'desconocido':\n",
        "                print(f\"Columna '{col}': aparecen {count} valores 'desconocido'\")\n",
        "            elif missing_val == 'NaN':\n",
        "                print(f\"Columna '{col}': aparecen {count} valores 'NaN'\")\n"
      ]
    },
    {
      "cell_type": "code",
      "execution_count": null,
      "metadata": {},
      "outputs": [
        {
          "name": "stdout",
          "output_type": "stream",
          "text": [
            "\n",
            "--- Paso 4: Búsqueda exhaustiva y consolidada ---\n",
            "class                          0\n",
            "cap-shape                      0\n",
            "cap-surface                    0\n",
            "cap-color                      0\n",
            "bruises                        0\n",
            "odor                           0\n",
            "gill-attachment                0\n",
            "gill-spacing                   0\n",
            "gill-size                      0\n",
            "gill-color                     0\n",
            "stalk-shape                    0\n",
            "stalk-root                  2480\n",
            "stalk-surface-above-ring       0\n",
            "stalk-surface-below-ring       0\n",
            "stalk-color-above-ring         0\n",
            "stalk-color-below-ring         0\n",
            "veil-type                      0\n",
            "veil-color                     0\n",
            "ring-number                    0\n",
            "ring-type                      0\n",
            "spore-print-color              0\n",
            "population                     0\n",
            "habitat                        0\n",
            "dtype: int64\n"
          ]
        }
      ],
      "source": [
        "print(\"\\n--- Paso 4: Búsqueda exhaustiva y consolidada ---\")\n",
        "\n",
        "# Define los valores que deben ser tratados como NaN durante la lectura o después\n",
        "# Puedes pasar esta lista directamente a pd.read_csv como el argumento `na_values`\n",
        "# Pero si ya tienes el DataFrame, puedes usar replace.\n",
        "\n",
        "# Lista de valores que deben ser interpretados como NaN\n",
        "# ¡Asegúrate de incluir las cadenas vacías y solo espacios si no lo hiciste en la lectura!\n",
        "all_missing_markers = ['', ' ', 'N/A', 'NA', '?', '-', 'missing', 'desconocido', 'NaN']\n",
        "\n",
        "# Crear una copia para no modificar el DataFrame original si no lo deseas\n",
        "df_cleaned = df.copy()\n",
        "\n",
        "# Reemplazar todos los marcadores personalizados por np.nan\n",
        "# Usamos regex=False porque no son patrones, son valores exactos.\n",
        "# También podemos usar .replace() de forma más directa:\n",
        "df_cleaned = df_cleaned.replace(all_missing_markers, np.nan)\n",
        "\n",
        "# Ahora, isnull() detectará todo lo que hemos convertido a np.nan,\n",
        "# además de los np.nan y None originales.\n",
        "print(df_cleaned.isnull().sum())"
      ]
    },
    {
      "cell_type": "code",
      "execution_count": 28,
      "metadata": {},
      "outputs": [
        {
          "name": "stdout",
          "output_type": "stream",
          "text": [
            "\n",
            "--- Paso 5: Valores nulos totales por columna ---\n",
            "|                          |    0 |\n",
            "|:-------------------------|-----:|\n",
            "| class                    |    0 |\n",
            "| cap-shape                |    0 |\n",
            "| cap-surface              |    0 |\n",
            "| cap-color                |    0 |\n",
            "| bruises                  |    0 |\n",
            "| odor                     |    0 |\n",
            "| gill-attachment          |    0 |\n",
            "| gill-spacing             |    0 |\n",
            "| gill-size                |    0 |\n",
            "| gill-color               |    0 |\n",
            "| stalk-shape              |    0 |\n",
            "| stalk-root               | 2480 |\n",
            "| stalk-surface-above-ring |    0 |\n",
            "| stalk-surface-below-ring |    0 |\n",
            "| stalk-color-above-ring   |    0 |\n",
            "| stalk-color-below-ring   |    0 |\n",
            "| veil-type                |    0 |\n",
            "| veil-color               |    0 |\n",
            "| ring-number              |    0 |\n",
            "| ring-type                |    0 |\n",
            "| spore-print-color        |    0 |\n",
            "| population               |    0 |\n",
            "| habitat                  |    0 |\n",
            "---\n"
          ]
        },
        {
          "data": {
            "image/png": "[encoded data removed]",
            "text/plain": [
              "<Figure size 1200x600 with 1 Axes>"
            ]
          },
          "metadata": {},
          "output_type": "display_data"
        }
      ],
      "source": [
        "# Aplicar isnull() para ver el total de valores nulos por columna\n",
        "print(\"\\n--- Paso 5: Valores nulos totales por columna ---\")\n",
        "print(df_cleaned.isnull().sum().to_markdown())  # index=False para no mostrar el índice\n",
        "print(\"---\")  # Separador final\n",
        "# Visualización de los valores nulos\n",
        "def visualizar_valores_nulos(df):\n",
        "    plt.figure(figsize=(12, 6))\n",
        "    sns.heatmap(df.isnull(), cbar=False, cmap='viridis', yticklabels=False)\n",
        "    plt.title('Mapa de calor de valores nulos')\n",
        "    plt.xlabel('Columnas')\n",
        "    plt.ylabel('Filas')\n",
        "    plt.show()\n",
        "visualizar_valores_nulos(df_cleaned)"
      ]
    },
    {
      "cell_type": "code",
      "execution_count": 32,
      "metadata": {},
      "outputs": [
        {
          "name": "stdout",
          "output_type": "stream",
          "text": [
            "---\n",
            "Análisis exhaustivo del DataFrame:\n",
            "Tipos de datos:\n",
            "|                          | 0      |\n",
            "|:-------------------------|:-------|\n",
            "| class                    | object |\n",
            "| cap-shape                | object |\n",
            "| cap-surface              | object |\n",
            "| cap-color                | object |\n",
            "| bruises                  | object |\n",
            "| odor                     | object |\n",
            "| gill-attachment          | object |\n",
            "| gill-spacing             | object |\n",
            "| gill-size                | object |\n",
            "| gill-color               | object |\n",
            "| stalk-shape              | object |\n",
            "| stalk-root               | object |\n",
            "| stalk-surface-above-ring | object |\n",
            "| stalk-surface-below-ring | object |\n",
            "| stalk-color-above-ring   | object |\n",
            "| stalk-color-below-ring   | object |\n",
            "| veil-type                | object |\n",
            "| veil-color               | object |\n",
            "| ring-number              | object |\n",
            "| ring-type                | object |\n",
            "| spore-print-color        | object |\n",
            "| population               | object |\n",
            "| habitat                  | object |\n",
            "\n",
            "Valores nulos:\n",
            "|                          |    0 |\n",
            "|:-------------------------|-----:|\n",
            "| class                    |    0 |\n",
            "| cap-shape                |    0 |\n",
            "| cap-surface              |    0 |\n",
            "| cap-color                |    0 |\n",
            "| bruises                  |    0 |\n",
            "| odor                     |    0 |\n",
            "| gill-attachment          |    0 |\n",
            "| gill-spacing             |    0 |\n",
            "| gill-size                |    0 |\n",
            "| gill-color               |    0 |\n",
            "| stalk-shape              |    0 |\n",
            "| stalk-root               | 2480 |\n",
            "| stalk-surface-above-ring |    0 |\n",
            "| stalk-surface-below-ring |    0 |\n",
            "| stalk-color-above-ring   |    0 |\n",
            "| stalk-color-below-ring   |    0 |\n",
            "| veil-type                |    0 |\n",
            "| veil-color               |    0 |\n",
            "| ring-number              |    0 |\n",
            "| ring-type                |    0 |\n",
            "| spore-print-color        |    0 |\n",
            "| population               |    0 |\n",
            "| habitat                  |    0 |\n",
            "\n",
            "Duplicados:\n",
            "Número de filas duplicadas: 0\n",
            "\n",
            "Descripción estadística:\n",
            "|        | class   | cap-shape   | cap-surface   | cap-color   | bruises   | odor   | gill-attachment   | gill-spacing   | gill-size   | gill-color   | stalk-shape   | stalk-root   | stalk-surface-above-ring   | stalk-surface-below-ring   | stalk-color-above-ring   | stalk-color-below-ring   | veil-type   | veil-color   | ring-number   | ring-type   | spore-print-color   | population   | habitat   |\n",
            "|:-------|:--------|:------------|:--------------|:------------|:----------|:-------|:------------------|:---------------|:------------|:-------------|:--------------|:-------------|:---------------------------|:---------------------------|:-------------------------|:-------------------------|:------------|:-------------|:--------------|:------------|:--------------------|:-------------|:----------|\n",
            "| count  | 8124    | 8124        | 8124          | 8124        | 8124      | 8124   | 8124              | 8124           | 8124        | 8124         | 8124          | 5644         | 8124                       | 8124                       | 8124                     | 8124                     | 8124        | 8124         | 8124          | 8124        | 8124                | 8124         | 8124      |\n",
            "| unique | 2       | 6           | 4             | 10          | 2         | 9      | 2                 | 2              | 2           | 12           | 2             | 4            | 4                          | 4                          | 9                        | 9                        | 1           | 4            | 3             | 5           | 9                   | 6            | 7         |\n",
            "| top    | e       | x           | y             | n           | f         | n      | f                 | c              | b           | b            | t             | b            | s                          | s                          | w                        | w                        | p           | w            | o             | p           | w                   | v            | d         |\n",
            "| freq   | 4208    | 3656        | 3244          | 2284        | 4748      | 3528   | 7914              | 6812           | 5612        | 1728         | 4608          | 3776         | 5176                       | 4936                       | 4464                     | 4384                     | 8124        | 7924         | 7488          | 3968        | 2388                | 4040         | 3148      |\n",
            "---\n"
          ]
        }
      ],
      "source": [
        "# Analisis exhaustivo para ver si hay nulos, duplicados, tipos de datos y estadisticas.\n",
        "def analisis_exhaustivo(df):\n",
        "    print(\"---\") # Separador para una mejor visualización\n",
        "    print(\"Análisis exhaustivo del DataFrame:\")\n",
        "    print(\"Tipos de datos:\")\n",
        "    print(df.dtypes.to_markdown()) # index=False para no mostrar el índice\n",
        "    print(\"\\nValores nulos:\")\n",
        "    print(df.isnull().sum().to_markdown()) # index=False para no mostrar el índice\n",
        "    print(\"\\nDuplicados:\")\n",
        "    print(f\"Número de filas duplicadas: {df.duplicated().sum()}\")\n",
        "    print(\"\\nDescripción estadística:\")\n",
        "    print(df.describe(include='all').to_markdown()) # include='all' para incluir todas las columnas\n",
        "    print(\"---\") # Separador final\n",
        "analisis_exhaustivo(df_cleaned)"
      ]
    },
    {
      "cell_type": "code",
      "execution_count": 31,
      "metadata": {
        "id": "WJG-fxzJQcwJ"
      },
      "outputs": [
        {
          "name": "stdout",
          "output_type": "stream",
          "text": [
            "---\n",
            "Información sobre los tipos de datos de cada columna:\n",
            "|                          | 0      |\n",
            "|:-------------------------|:-------|\n",
            "| class                    | object |\n",
            "| cap-shape                | object |\n",
            "| cap-surface              | object |\n",
            "| cap-color                | object |\n",
            "| bruises                  | object |\n",
            "| odor                     | object |\n",
            "| gill-attachment          | object |\n",
            "| gill-spacing             | object |\n",
            "| gill-size                | object |\n",
            "| gill-color               | object |\n",
            "| stalk-shape              | object |\n",
            "| stalk-root               | object |\n",
            "| stalk-surface-above-ring | object |\n",
            "| stalk-surface-below-ring | object |\n",
            "| stalk-color-above-ring   | object |\n",
            "| stalk-color-below-ring   | object |\n",
            "| veil-type                | object |\n",
            "| veil-color               | object |\n",
            "| ring-number              | object |\n",
            "| ring-type                | object |\n",
            "| spore-print-color        | object |\n",
            "| population               | object |\n",
            "| habitat                  | object |\n",
            "---\n"
          ]
        }
      ],
      "source": [
        "# Información sobre el tipo de datos de cada feature\n",
        "def informacion_tipos_datos(df):\n",
        "    print(\"---\") # Separador para una mejor visualización\n",
        "    print(\"Información sobre los tipos de datos de cada columna:\")\n",
        "    print(df.dtypes.to_markdown()) # index=False para no mostrar el índice\n",
        "    print(\"---\") # Separador final\n",
        "informacion_tipos_datos(df_cleaned)"
      ]
    },
    {
      "cell_type": "markdown",
      "metadata": {
        "id": "Md7i8gXBQcwJ"
      },
      "source": [
        "#### Calcular el número de nulos de cada feature"
      ]
    },
    {
      "cell_type": "code",
      "execution_count": 34,
      "metadata": {
        "id": "8xXz4mT0QcwJ",
        "scrolled": false
      },
      "outputs": [
        {
          "name": "stdout",
          "output_type": "stream",
          "text": [
            "---\n",
            "Conteo de valores nulos por variable:\n",
            "|                          |    0 |\n",
            "|:-------------------------|-----:|\n",
            "| class                    |    0 |\n",
            "| cap-shape                |    0 |\n",
            "| cap-surface              |    0 |\n",
            "| cap-color                |    0 |\n",
            "| bruises                  |    0 |\n",
            "| odor                     |    0 |\n",
            "| gill-attachment          |    0 |\n",
            "| gill-spacing             |    0 |\n",
            "| gill-size                |    0 |\n",
            "| gill-color               |    0 |\n",
            "| stalk-shape              |    0 |\n",
            "| stalk-root               | 2480 |\n",
            "| stalk-surface-above-ring |    0 |\n",
            "| stalk-surface-below-ring |    0 |\n",
            "| stalk-color-above-ring   |    0 |\n",
            "| stalk-color-below-ring   |    0 |\n",
            "| veil-type                |    0 |\n",
            "| veil-color               |    0 |\n",
            "| ring-number              |    0 |\n",
            "| ring-type                |    0 |\n",
            "| spore-print-color        |    0 |\n",
            "| population               |    0 |\n",
            "| habitat                  |    0 |\n",
            "---\n"
          ]
        }
      ],
      "source": [
        "# Igual que otras veces, una linea, contar los nulos por variable.\n",
        "def contar_nulos_por_variable(df):\n",
        "    print(\"---\") # Separador para una mejor visualización\n",
        "    print(\"Conteo de valores nulos por variable:\")\n",
        "    print(df.isnull().sum().to_markdown()) # index=False para no mostrar el índice\n",
        "    print(\"---\") # Separador final\n",
        "contar_nulos_por_variable(df_cleaned)\n"
      ]
    },
    {
      "cell_type": "markdown",
      "metadata": {},
      "source": [
        "El resultado muestra el número de valores nulos (`NaN`) por columna después de reemplazar los valores `'?'` y otros marcadores personalizados por `np.nan`. La función `isnull().sum()` cuenta cuántos valores nulos hay en cada columna.\n",
        "\n",
        "**Interpretación:**\n",
        "\n",
        "- Todas las columnas, excepto `stalk-root`, no tienen valores nulos (`0`).\n",
        "- La columna `stalk-root` tiene **2480 valores nulos**. Esto indica que aproximadamente la mitad de las filas no tienen información sobre la raíz del tallo, probablemente porque originalmente tenían el valor `'?'` (u otro marcador de missing).\n",
        "- El resto de las columnas están completas, sin valores faltantes.\n",
        "\n",
        "**Conclusión:**  \n",
        "Debes decidir cómo tratar los nulos en `stalk-root` (eliminarlos, imputar con la moda, etc.). El resto del dataset está limpio respecto a valores nulos."
      ]
    },
    {
      "cell_type": "markdown",
      "metadata": {
        "id": "MJv-ez3WQcwK"
      },
      "source": [
        "#### Buscar valores extraños. Para ello, ver los valores únicos en cada feature"
      ]
    },
    {
      "cell_type": "code",
      "execution_count": 35,
      "metadata": {
        "id": "fUZ2EHmTQcwK"
      },
      "outputs": [
        {
          "name": "stdout",
          "output_type": "stream",
          "text": [
            "---\n",
            "Número de valores únicos por variable:\n",
            "| Feature                  |   Unique Values |\n",
            "|:-------------------------|----------------:|\n",
            "| class                    |               2 |\n",
            "| cap-shape                |               6 |\n",
            "| cap-surface              |               4 |\n",
            "| cap-color                |              10 |\n",
            "| bruises                  |               2 |\n",
            "| odor                     |               9 |\n",
            "| gill-attachment          |               2 |\n",
            "| gill-spacing             |               2 |\n",
            "| gill-size                |               2 |\n",
            "| gill-color               |              12 |\n",
            "| stalk-shape              |               2 |\n",
            "| stalk-root               |               4 |\n",
            "| stalk-surface-above-ring |               4 |\n",
            "| stalk-surface-below-ring |               4 |\n",
            "| stalk-color-above-ring   |               9 |\n",
            "| stalk-color-below-ring   |               9 |\n",
            "| veil-type                |               1 |\n",
            "| veil-color               |               4 |\n",
            "| ring-number              |               3 |\n",
            "| ring-type                |               5 |\n",
            "| spore-print-color        |               9 |\n",
            "| population               |               6 |\n",
            "| habitat                  |               7 |\n",
            "---\n"
          ]
        },
        {
          "data": {
            "text/html": [
              "<div>\n",
              "<style scoped>\n",
              "    .dataframe tbody tr th:only-of-type {\n",
              "        vertical-align: middle;\n",
              "    }\n",
              "\n",
              "    .dataframe tbody tr th {\n",
              "        vertical-align: top;\n",
              "    }\n",
              "\n",
              "    .dataframe thead th {\n",
              "        text-align: right;\n",
              "    }\n",
              "</style>\n",
              "<table border=\"1\" class=\"dataframe\">\n",
              "  <thead>\n",
              "    <tr style=\"text-align: right;\">\n",
              "      <th></th>\n",
              "      <th>Feature</th>\n",
              "      <th>Unique Values</th>\n",
              "    </tr>\n",
              "  </thead>\n",
              "  <tbody>\n",
              "    <tr>\n",
              "      <th>0</th>\n",
              "      <td>class</td>\n",
              "      <td>2</td>\n",
              "    </tr>\n",
              "    <tr>\n",
              "      <th>1</th>\n",
              "      <td>cap-shape</td>\n",
              "      <td>6</td>\n",
              "    </tr>\n",
              "    <tr>\n",
              "      <th>2</th>\n",
              "      <td>cap-surface</td>\n",
              "      <td>4</td>\n",
              "    </tr>\n",
              "    <tr>\n",
              "      <th>3</th>\n",
              "      <td>cap-color</td>\n",
              "      <td>10</td>\n",
              "    </tr>\n",
              "    <tr>\n",
              "      <th>4</th>\n",
              "      <td>bruises</td>\n",
              "      <td>2</td>\n",
              "    </tr>\n",
              "    <tr>\n",
              "      <th>5</th>\n",
              "      <td>odor</td>\n",
              "      <td>9</td>\n",
              "    </tr>\n",
              "    <tr>\n",
              "      <th>6</th>\n",
              "      <td>gill-attachment</td>\n",
              "      <td>2</td>\n",
              "    </tr>\n",
              "    <tr>\n",
              "      <th>7</th>\n",
              "      <td>gill-spacing</td>\n",
              "      <td>2</td>\n",
              "    </tr>\n",
              "    <tr>\n",
              "      <th>8</th>\n",
              "      <td>gill-size</td>\n",
              "      <td>2</td>\n",
              "    </tr>\n",
              "    <tr>\n",
              "      <th>9</th>\n",
              "      <td>gill-color</td>\n",
              "      <td>12</td>\n",
              "    </tr>\n",
              "    <tr>\n",
              "      <th>10</th>\n",
              "      <td>stalk-shape</td>\n",
              "      <td>2</td>\n",
              "    </tr>\n",
              "    <tr>\n",
              "      <th>11</th>\n",
              "      <td>stalk-root</td>\n",
              "      <td>4</td>\n",
              "    </tr>\n",
              "    <tr>\n",
              "      <th>12</th>\n",
              "      <td>stalk-surface-above-ring</td>\n",
              "      <td>4</td>\n",
              "    </tr>\n",
              "    <tr>\n",
              "      <th>13</th>\n",
              "      <td>stalk-surface-below-ring</td>\n",
              "      <td>4</td>\n",
              "    </tr>\n",
              "    <tr>\n",
              "      <th>14</th>\n",
              "      <td>stalk-color-above-ring</td>\n",
              "      <td>9</td>\n",
              "    </tr>\n",
              "    <tr>\n",
              "      <th>15</th>\n",
              "      <td>stalk-color-below-ring</td>\n",
              "      <td>9</td>\n",
              "    </tr>\n",
              "    <tr>\n",
              "      <th>16</th>\n",
              "      <td>veil-type</td>\n",
              "      <td>1</td>\n",
              "    </tr>\n",
              "    <tr>\n",
              "      <th>17</th>\n",
              "      <td>veil-color</td>\n",
              "      <td>4</td>\n",
              "    </tr>\n",
              "    <tr>\n",
              "      <th>18</th>\n",
              "      <td>ring-number</td>\n",
              "      <td>3</td>\n",
              "    </tr>\n",
              "    <tr>\n",
              "      <th>19</th>\n",
              "      <td>ring-type</td>\n",
              "      <td>5</td>\n",
              "    </tr>\n",
              "    <tr>\n",
              "      <th>20</th>\n",
              "      <td>spore-print-color</td>\n",
              "      <td>9</td>\n",
              "    </tr>\n",
              "    <tr>\n",
              "      <th>21</th>\n",
              "      <td>population</td>\n",
              "      <td>6</td>\n",
              "    </tr>\n",
              "    <tr>\n",
              "      <th>22</th>\n",
              "      <td>habitat</td>\n",
              "      <td>7</td>\n",
              "    </tr>\n",
              "  </tbody>\n",
              "</table>\n",
              "</div>"
            ],
            "text/plain": [
              "                     Feature  Unique Values\n",
              "0                      class              2\n",
              "1                  cap-shape              6\n",
              "2                cap-surface              4\n",
              "3                  cap-color             10\n",
              "4                    bruises              2\n",
              "5                       odor              9\n",
              "6            gill-attachment              2\n",
              "7               gill-spacing              2\n",
              "8                  gill-size              2\n",
              "9                 gill-color             12\n",
              "10               stalk-shape              2\n",
              "11                stalk-root              4\n",
              "12  stalk-surface-above-ring              4\n",
              "13  stalk-surface-below-ring              4\n",
              "14    stalk-color-above-ring              9\n",
              "15    stalk-color-below-ring              9\n",
              "16                 veil-type              1\n",
              "17                veil-color              4\n",
              "18               ring-number              3\n",
              "19                 ring-type              5\n",
              "20         spore-print-color              9\n",
              "21                population              6\n",
              "22                   habitat              7"
            ]
          },
          "execution_count": 35,
          "metadata": {},
          "output_type": "execute_result"
        }
      ],
      "source": [
        "# Obtener un nuevo dataframe de dos columnas donde en la primera estén las features (features) y en la otra los valores únicos\n",
        "# asociados (n_values).\n",
        "def contar_valores_unicos(df):\n",
        "    print(\"---\") # Separador para una mejor visualización\n",
        "    unique_counts = {col: df[col].nunique() for col in df.columns}\n",
        "    unique_df = pd.DataFrame(list(unique_counts.items()), columns=['Feature', 'Unique Values'])\n",
        "    print(\"Número de valores únicos por variable:\")\n",
        "    print(unique_df.to_markdown(index=False)) # index=False para no mostrar el índice\n",
        "    print(\"---\") # Separador final\n",
        "    return unique_df\n",
        "contar_valores_unicos(df_cleaned)"
      ]
    },
    {
      "cell_type": "markdown",
      "metadata": {},
      "source": [
        "Al analizar el número de valores únicos por variable, veo lo siguiente:\n",
        "\n",
        "- **class** tiene 2 valores, lo esperado porque es la variable objetivo binaria (comestible o venenoso).\n",
        "- Hay variables con pocos valores únicos (por ejemplo, muchas con 2, 3, 4 o 5), lo que es normal en variables categóricas codificadas.\n",
        "- Algunas variables tienen más variedad, como `cap-color` (10), `gill-color` (12), `stalk-color-above-ring` y `stalk-color-below-ring` (9 cada una), lo que puede aportar riqueza al modelo.\n",
        "- La variable **veil-type** solo tiene 1 valor único. Esto significa que no aporta ninguna información para la predicción, así que la eliminaré del dataset.\n",
        "- El resto de variables parecen razonables y no hay ninguna otra con solo un valor único.\n",
        "\n",
        "**¿Qué haré?**\n",
        "- Eliminaré la columna `veil-type` porque no aporta información.\n",
        "- Mantendré el resto de variables, ya que todas tienen más de un valor único y pueden ser útiles para el análisis y los modelos.\n",
        "- Seguiré revisando si alguna variable tiene valores dominantes o si hay que agrupar categorías poco frecuentes, pero de momento, solo eliminaré la columna sin variabilidad."
      ]
    },
    {
      "cell_type": "markdown",
      "metadata": {
        "id": "YXIyz_tdQcwK"
      },
      "source": [
        "#### Tratar aquellos valores que entendamos que sean nulos\n"
      ]
    },
    {
      "cell_type": "markdown",
      "metadata": {},
      "source": [
        "No existe una única \"mejor\" estrategia universal para tratar los 2480 valores nulos en `stalk-root` (de un total de 8124 filas). La decisión depende del enfoque, del objetivo del análisis y de la importancia de esa variable para tu modelo. Aquí tienes las opciones más habituales y cómo decidir:\n",
        "\n",
        "### 1. **Eliminar las filas con nulos**\n",
        "- **Ventaja:** El dataset queda limpio y no introduces supuestos.\n",
        "- **Desventaja:** Pierdes mucha información (un 30% del dataset).\n",
        "- **Cuándo hacerlo:** Si tienes muchos datos y la variable no es crítica, o si los nulos parecen aleatorios.\n",
        "\n",
        "### 2. **Imputar los nulos**\n",
        "- **Con la moda:** Es lo más habitual en variables categóricas.\n",
        "- **Con una nueva categoría:** Por ejemplo, poner \"desconocido\" o \"missing\".\n",
        "- **Ventaja:** No pierdes datos.\n",
        "- **Desventaja:** Puedes introducir sesgo si los nulos no son aleatorios.\n",
        "- **Cuándo hacerlo:** Si la variable es importante para el modelo o si perder datos no es aceptable.\n",
        "\n",
        "### 3. **Dejar los nulos**\n",
        "- Algunos modelos (como los árboles de decisión en scikit-learn) no aceptan nulos, pero otros sí. Si tu pipeline lo permite, puedes dejar los nulos y ver cómo afecta.\n",
        "\n",
        "### 4. **Analizar el patrón de los nulos**\n",
        "- ¿Los nulos están distribuidos aleatoriamente o siguen algún patrón? Si los nulos se concentran en un tipo de hongo, puede ser relevante.\n",
        "\n",
        "---\n",
        "\n",
        "**¿Cómo saber cuál es la mejor?**\n",
        "- Haz pruebas: compara el rendimiento del modelo eliminando filas, imputando con la moda y usando una categoría \"missing\".\n",
        "- Analiza la importancia de la variable: si `stalk-root` es clave para la predicción, mejor imputar.\n",
        "- Mira el patrón de los nulos: si no es aleatorio, puede ser mejor crear una categoría especial.\n",
        "\n",
        "**En resumen:**  \n",
        "No hay una única mejor estrategia, depende de tu objetivo y del análisis exploratorio. Lo recomendable es probar varias opciones y comparar resultados."
      ]
    },
    {
      "cell_type": "markdown",
      "metadata": {},
      "source": [
        "Para analizar la importancia de la variable `stalk-root` y el patrón de los nulos, puedes seguir estos pasos:\n",
        "\n",
        "---\n",
        "\n",
        "### 1. **Analizar la importancia de `stalk-root`**\n",
        "\n",
        "Puedes comprobar si `stalk-root` aporta información relevante para la predicción de la variable objetivo (`class`). Una forma sencilla es entrenar un modelo con y sin esa variable y comparar el rendimiento:\n",
        "\n"
      ]
    },
    {
      "cell_type": "code",
      "execution_count": 36,
      "metadata": {},
      "outputs": [
        {
          "name": "stdout",
          "output_type": "stream",
          "text": [
            "Precisión con stalk-root: 1.0\n",
            "Precisión sin stalk-root: 1.0\n"
          ]
        }
      ],
      "source": [
        "from sklearn.ensemble import RandomForestClassifier\n",
        "from sklearn.model_selection import train_test_split\n",
        "\n",
        "# Dataset sin nulos en stalk-root\n",
        "df_no_nulls = df_cleaned.dropna(subset=['stalk-root'])\n",
        "X_full = df_no_nulls.drop('class', axis=1)\n",
        "y_full = df_no_nulls['class']\n",
        "\n",
        "# Codifica variables categóricas (One Hot Encoding)\n",
        "X_full_encoded = pd.get_dummies(X_full)\n",
        "\n",
        "# Entrena y evalúa un modelo con stalk-root\n",
        "X_train, X_test, y_train, y_test = train_test_split(X_full_encoded, y_full, test_size=0.33, random_state=42)\n",
        "clf = RandomForestClassifier(random_state=42)\n",
        "clf.fit(X_train, y_train)\n",
        "print(\"Precisión con stalk-root:\", clf.score(X_test, y_test))\n",
        "\n",
        "# Entrena y evalúa un modelo SIN stalk-root\n",
        "X_full_sin_stalk = X_full.drop('stalk-root', axis=1)\n",
        "X_full_sin_stalk_encoded = pd.get_dummies(X_full_sin_stalk)\n",
        "X_train2, X_test2, y_train2, y_test2 = train_test_split(X_full_sin_stalk_encoded, y_full, test_size=0.33, random_state=42)\n",
        "clf2 = RandomForestClassifier(random_state=42)\n",
        "clf2.fit(X_train2, y_train2)\n",
        "print(\"Precisión sin stalk-root:\", clf2.score(X_test2, y_test2))"
      ]
    },
    {
      "cell_type": "markdown",
      "metadata": {},
      "source": [
        "\n",
        "\n",
        "Si la precisión apenas cambia, la variable no es importante. Si baja mucho, sí lo es.\n",
        "\n",
        "---\n",
        "\n",
        "### 2. **Analizar el patrón de los nulos**\n",
        "\n",
        "Puedes comparar la distribución de los nulos respecto a otras variables, especialmente la variable objetivo:\n",
        "\n"
      ]
    },
    {
      "cell_type": "code",
      "execution_count": 37,
      "metadata": {},
      "outputs": [
        {
          "name": "stdout",
          "output_type": "stream",
          "text": [
            "class               e     p\n",
            "stalk-root-null            \n",
            "False            3488  2156\n",
            "True              720  1760\n",
            "cap-shape          b  c     f    k   s     x\n",
            "stalk-root-null                             \n",
            "False            300  4  2432   36  32  2840\n",
            "True             152  0   720  792   0   816\n"
          ]
        }
      ],
      "source": [
        "# Crea una columna booleana que indique si stalk-root es nulo\n",
        "df_cleaned['stalk-root-null'] = df_cleaned['stalk-root'].isnull()\n",
        "\n",
        "# Cruza con la variable objetivo\n",
        "print(pd.crosstab(df_cleaned['stalk-root-null'], df_cleaned['class']))\n",
        "\n",
        "# También puedes cruzar con otras variables categóricas relevantes\n",
        "# Por ejemplo, con 'cap-shape'\n",
        "print(pd.crosstab(df_cleaned['stalk-root-null'], df_cleaned['cap-shape']))"
      ]
    },
    {
      "cell_type": "markdown",
      "metadata": {},
      "source": [
        "\n",
        "\n",
        "Si los nulos aparecen de forma similar en todas las clases y categorías, el patrón es aleatorio. Si se concentran en alguna clase o valor, el patrón NO es aleatorio.\n",
        "\n",
        "---\n",
        "\n",
        "**Conclusión:**  \n",
        "- Si `stalk-root` es importante y los nulos no son aleatorios, mejor imputar o crear una categoría especial.\n",
        "- Si no es importante o los nulos son aleatorios, puedes eliminar filas o imputar con la moda."
      ]
    },
    {
      "cell_type": "markdown",
      "metadata": {},
      "source": [
        "Los resultados de `pd.crosstab` muestran cómo se distribuyen los valores nulos de `stalk-root` respecto a la variable objetivo (`class`) y a la variable `cap-shape`.\n",
        "\n",
        "### 1. Relación con la variable objetivo (`class`):\n",
        "\n",
        "| stalk-root-null |   e   |   p   |\n",
        "|-----------------|-------|-------|\n",
        "| False           | 3488  | 2156  |\n",
        "| True            |  720  | 1760  |\n",
        "\n",
        "- Cuando **NO hay nulo** (`False`), hay 3488 comestibles (`e`) y 2156 venenosos (`p`).\n",
        "- Cuando **hay nulo** (`True`), hay 720 comestibles y 1760 venenosos.\n",
        "- **Interpretación:**  \n",
        "  Los nulos en `stalk-root` aparecen mucho más en la clase venenosa (`p`). De hecho, la mayoría de los nulos están en la clase venenosa, lo que indica que el patrón de nulos **NO es aleatorio** respecto a la variable objetivo.\n",
        "\n",
        "---\n",
        "\n",
        "### 2. Relación con `cap-shape`:\n",
        "\n",
        "| stalk-root-null |   b |  c |    f |   k |  s |    x |\n",
        "|-----------------|----|----|------|-----|----|------|\n",
        "| False           | 300|  4 | 2432 |  36 | 32 | 2840 |\n",
        "| True            | 152|  0 |  720 | 792 |  0 |  816 |\n",
        "\n",
        "- Por ejemplo, cuando hay nulo (`True`), la mayoría de los casos están en las formas `k` y `x`.\n",
        "- Hay formas (`c` y `s`) que no tienen nulos.\n",
        "- **Interpretación:**  \n",
        "  Los nulos en `stalk-root` también se concentran en ciertas formas de sombrero, especialmente en `k` y `x`, y no aparecen en otras. Esto refuerza que el patrón de nulos **NO es aleatorio** respecto a `cap-shape`.\n",
        "\n",
        "---\n",
        "\n",
        "**Conclusión:**  \n",
        "El patrón de nulos en `stalk-root` no es aleatorio, sino que está relacionado tanto con la clase (`class`) como con la forma del sombrero (`cap-shape`). Por tanto, si decido imputar los nulos, debería considerar este patrón y no simplemente rellenar con la moda global. Crear una categoría especial para los nulos o imputar de forma estratificada puede ser más adecuado."
      ]
    },
    {
      "cell_type": "code",
      "execution_count": 38,
      "metadata": {
        "id": "OVQnxK1gQcwK"
      },
      "outputs": [
        {
          "name": "stdout",
          "output_type": "stream",
          "text": [
            "---\n",
            "Número de filas antes de eliminar stalk-root nulo: 8124\n",
            "Número de filas después de eliminar stalk-root nulo: 5644\n",
            "---\n"
          ]
        }
      ],
      "source": [
        "# Imputaciones. Podéis quitar esos puntos (fila entera), imputar con la moda o dejar ese valor como una posibilidad más.\n",
        "# Vamos a eliminar las filas con stalk-root nulo\n",
        "def eliminar_filas_con_stalk_root_nulo(df):\n",
        "    df_sin_stalk_root_nulo = df.dropna(subset=['stalk-root'])\n",
        "    print(\"---\") # Separador para una mejor visualización\n",
        "    print(\"Número de filas antes de eliminar stalk-root nulo:\", len(df))\n",
        "    print(\"Número de filas después de eliminar stalk-root nulo:\", len(df_sin_stalk_root_nulo))\n",
        "    print(\"---\") # Separador final\n",
        "    return df_sin_stalk_root_nulo\n",
        "df_sin_stalk_root_nulo = eliminar_filas_con_stalk_root_nulo(df_cleaned)"
      ]
    },
    {
      "cell_type": "code",
      "execution_count": null,
      "metadata": {},
      "outputs": [],
      "source": []
    },
    {
      "cell_type": "markdown",
      "metadata": {},
      "source": [
        "Para revisar la **distribución** y la **relevancia** de la columna `veil-type`, puedes hacer lo siguiente:\n",
        "\n",
        "### 1. Ver la distribución de valores\n",
        "\n",
        "Esto te permite ver cuántas veces aparece cada valor en la columna:\n",
        "\n"
      ]
    },
    {
      "cell_type": "code",
      "execution_count": 39,
      "metadata": {},
      "outputs": [
        {
          "name": "stdout",
          "output_type": "stream",
          "text": [
            "veil-type\n",
            "p    8124\n",
            "Name: count, dtype: int64\n",
            "veil-type\n",
            "p    1.0\n",
            "Name: proportion, dtype: float64\n"
          ]
        }
      ],
      "source": [
        "print(df_cleaned['veil-type'].value_counts())\n",
        "print(df_cleaned['veil-type'].value_counts(normalize=True))  # Proporción"
      ]
    },
    {
      "cell_type": "markdown",
      "metadata": {},
      "source": [
        "\n",
        "\n",
        "Si solo hay un valor, la columna no aporta información y se puede eliminar.\n",
        "\n",
        "---\n",
        "\n",
        "### 2. Revisar la relevancia respecto a la variable objetivo\n",
        "\n",
        "Puedes cruzar `veil-type` con la variable objetivo (`class`) para ver si hay relación:\n",
        "\n"
      ]
    },
    {
      "cell_type": "code",
      "execution_count": 40,
      "metadata": {},
      "outputs": [
        {
          "name": "stdout",
          "output_type": "stream",
          "text": [
            "class         e     p\n",
            "veil-type            \n",
            "p          4208  3916\n"
          ]
        }
      ],
      "source": [
        "print(pd.crosstab(df_cleaned['veil-type'], df_cleaned['class']))"
      ]
    },
    {
      "cell_type": "markdown",
      "metadata": {},
      "source": [
        "\n",
        "\n",
        "Si solo hay una fila, o si la distribución es igual para todas las clases, la columna no es relevante.\n",
        "\n",
        "---\n",
        "\n",
        "**Conclusión:**  \n",
        "- Si solo hay un valor único, elimina la columna.\n",
        "- Si hay dos valores, pero uno es muy raro o no hay relación con la variable objetivo, también puedes eliminarla.  \n",
        "- Si ves que hay relación, puedes mantenerla."
      ]
    },
    {
      "cell_type": "markdown",
      "metadata": {
        "id": "8dbmx1Z7QcwK"
      },
      "source": [
        "#### Mirad cuántos valores hay en cada feature, ¿Todas las features aportan información? Si alguna no aporta información, eliminadla"
      ]
    },
    {
      "cell_type": "code",
      "execution_count": 41,
      "metadata": {
        "id": "ts2xeUavQcwK"
      },
      "outputs": [
        {
          "name": "stdout",
          "output_type": "stream",
          "text": [
            "---\n",
            "Comprobación de información aportada por las features:\n",
            "Columna 'class' aporta información.\n",
            "Columna 'cap-shape' aporta información.\n",
            "Columna 'cap-surface' aporta información.\n",
            "Columna 'cap-color' aporta información.\n",
            "Columna 'bruises' aporta información.\n",
            "Columna 'odor' aporta información.\n",
            "Columna 'gill-attachment' aporta información.\n",
            "Columna 'gill-spacing' aporta información.\n",
            "Columna 'gill-size' aporta información.\n",
            "Columna 'gill-color' aporta información.\n",
            "Columna 'stalk-shape' aporta información.\n",
            "Columna 'stalk-root' aporta información.\n",
            "Columna 'stalk-surface-above-ring' aporta información.\n",
            "Columna 'stalk-surface-below-ring' aporta información.\n",
            "Columna 'stalk-color-above-ring' aporta información.\n",
            "Columna 'stalk-color-below-ring' aporta información.\n",
            "Columna 'veil-type' no aporta información (un solo valor único).\n",
            "Columna 'veil-color' aporta información.\n",
            "Columna 'ring-number' aporta información.\n",
            "Columna 'ring-type' aporta información.\n",
            "Columna 'spore-print-color' aporta información.\n",
            "Columna 'population' aporta información.\n",
            "Columna 'habitat' aporta información.\n",
            "Columna 'stalk-root-null' aporta información.\n",
            "---\n"
          ]
        }
      ],
      "source": [
        "# Dejar por el camino si procede.\n",
        "# Comprobamos si todas las features aportan informacion\n",
        "def comprobar_informacion_features(df):\n",
        "    print(\"---\") # Separador para una mejor visualización\n",
        "    print(\"Comprobación de información aportada por las features:\")\n",
        "    for col in df.columns:\n",
        "        if df[col].nunique() > 1:  # Si hay más de un valor único, aporta información\n",
        "            print(f\"Columna '{col}' aporta información.\")\n",
        "        else:\n",
        "            print(f\"Columna '{col}' no aporta información (un solo valor único).\")\n",
        "    print(\"---\") # Separador final\n",
        "comprobar_informacion_features(df_cleaned)\n"
      ]
    },
    {
      "cell_type": "markdown",
      "metadata": {
        "id": "2dX1LM1VQcwK"
      },
      "source": [
        "#### Separar entre variables predictoras y variables a predecir"
      ]
    },
    {
      "cell_type": "code",
      "execution_count": 9,
      "metadata": {
        "colab": {
          "base_uri": "https://localhost:8080/",
          "height": 106
        },
        "id": "pS9HEA2eQcwK",
        "outputId": "3bc8f166-5b22-41e7-aa6b-69bad0b06280"
      },
      "outputs": [
        {
          "ename": "SyntaxError",
          "evalue": "invalid syntax (<ipython-input-9-411deef15e8a>, line 2)",
          "output_type": "error",
          "traceback": [
            "\u001b[0;36m  File \u001b[0;32m\"<ipython-input-9-411deef15e8a>\"\u001b[0;36m, line \u001b[0;32m2\u001b[0m\n\u001b[0;31m    y =\u001b[0m\n\u001b[0m       ^\u001b[0m\n\u001b[0;31mSyntaxError\u001b[0m\u001b[0;31m:\u001b[0m invalid syntax\n"
          ]
        }
      ],
      "source": [
        "# La variable que trata de predecir este conjunto de datos es 'class'.\n",
        "y =\n",
        "X ="
      ]
    },
    {
      "cell_type": "markdown",
      "metadata": {
        "id": "sN1fZZfZQcwL"
      },
      "source": [
        "#### Codificar correctamente las variables categóricas a numéricas"
      ]
    },
    {
      "cell_type": "code",
      "execution_count": null,
      "metadata": {
        "id": "-4l92dfEQcwL"
      },
      "outputs": [],
      "source": [
        "# One Hot Encoder (una linea)."
      ]
    },
    {
      "cell_type": "markdown",
      "metadata": {
        "id": "RBBAM0bzQcwL"
      },
      "source": [
        "#### Train test split"
      ]
    },
    {
      "cell_type": "code",
      "execution_count": null,
      "metadata": {
        "id": "hHxqeJQqQcwL"
      },
      "outputs": [],
      "source": [
        "# Os lo dejamos a todos igual\n",
        "X_train, X_test, y_train, y_test = train_test_split(X, y, test_size=0.33, random_state=42)"
      ]
    },
    {
      "cell_type": "markdown",
      "metadata": {
        "id": "3sL57bzCQcwL"
      },
      "source": [
        "## PCA"
      ]
    },
    {
      "cell_type": "markdown",
      "metadata": {
        "id": "uhAhJqbKQcwM"
      },
      "source": [
        "Es un conjunto de datos del que aún no hemos visto nada (no tenemos graficas) así que vamos a hacer algunas. Tenemos el problema de que son muchas variables, **PCA al rescate**: le pedimos que nos de dos dimensiones y las pintamos, sabemos que serán **aquellas que retengan más información**."
      ]
    },
    {
      "cell_type": "code",
      "execution_count": null,
      "metadata": {
        "id": "3232KSn9QcwM",
        "scrolled": true
      },
      "outputs": [],
      "source": [
        "pca =       # metodo de sklearn\n",
        "pca.fit(X_train)\n",
        "\n",
        "# Representar en un scatterplot y poner en color las etiquetas de entrenamiento"
      ]
    },
    {
      "cell_type": "markdown",
      "metadata": {
        "id": "DMYH_Hv0QcwM"
      },
      "source": [
        "Parece que está bastante separadito, parece que a ojo mucho se puede ver :)"
      ]
    },
    {
      "cell_type": "markdown",
      "metadata": {
        "id": "QdE0AvlKQcwM"
      },
      "source": [
        "Igualmente, vamos a entrenar un clasificador a ver qué tal lo hace antes de editar más"
      ]
    },
    {
      "cell_type": "code",
      "execution_count": null,
      "metadata": {
        "id": "eKQqz_EPQcwM"
      },
      "outputs": [],
      "source": [
        "from sklearn.ensemble import RandomForestClassifier\n",
        "\n",
        "# 1. Definir el clasificador y el número de estimadores\n",
        "# 2. Entrenar en train\n",
        "# 3. Calcular la precisión sobre test"
      ]
    },
    {
      "cell_type": "markdown",
      "metadata": {
        "id": "PACQlU5_QcwM"
      },
      "source": [
        "Es un conjunto sencillo y Random Forest es muy bueno en su trabajo, Igualmente, vamos a ver qué tamaño tenemos de dataset:\n"
      ]
    },
    {
      "cell_type": "code",
      "execution_count": null,
      "metadata": {
        "id": "ODibK0D2QcwN"
      },
      "outputs": [],
      "source": [
        "X_train.shape"
      ]
    },
    {
      "cell_type": "markdown",
      "metadata": {
        "id": "_rEVhvRaQcwN"
      },
      "source": [
        "¿Muchas features no? Vamos a reducir las usando PCA."
      ]
    },
    {
      "cell_type": "code",
      "execution_count": null,
      "metadata": {
        "id": "kEJPZw_cQcwN",
        "scrolled": true
      },
      "outputs": [],
      "source": [
        "n_features = # definir un rango de valores a probar\n",
        "scores = []\n",
        "\n",
        "for n in n_features:\n",
        "\n",
        "    # Hacer PCA sobre X_train\n",
        "    # 1. Definir PCA\n",
        "    # 2. Aprender PCA sobre X_train\n",
        "\n",
        "    # Entrenar Random Forest\n",
        "    # 1. Definir el RF\n",
        "    # 2. Entrenar clasificador\n",
        "\n",
        "    # Guardar el score\n",
        "\n",
        "\n",
        "sns.lineplot(x=n_features, y=scores)\n"
      ]
    },
    {
      "cell_type": "markdown",
      "metadata": {
        "id": "dKjl6aHiQcwN"
      },
      "source": [
        "Vale, estamos viendo que a partir de unas 10 features ya tenemos el score que queríamos y además hemos reducido las variables a un 10% de las que teníamos, incluso menos que las variables originales."
      ]
    },
    {
      "cell_type": "markdown",
      "metadata": {
        "id": "2Jvqa-leQcwN"
      },
      "source": [
        "## Clustering"
      ]
    },
    {
      "cell_type": "markdown",
      "metadata": {
        "id": "VWiMHKUdQcwN"
      },
      "source": [
        "Viendo que el conjunto de datos es sencillito, podemos intentar hacer algo de clustering a ver qué información podemos obtener.\n",
        "\n",
        "El primer paso va a ser importar la función de Kmeans de sklearn, y a partir de ahi, vamos a buscar el valor óptimo de clusters. Como hemos visto anteriormente, este valor lo obtenemos, por ejemplo, del codo de la gráfica que representa el total de las distancias de los puntos a los centros de los clusters asociados. Os dejo la página de la documentación de sklearn para que lo busquéis:\n",
        "\n",
        "[K-Means on sklearn](https://scikit-learn.org/stable/modules/generated/sklearn.cluster.KMeans.html)\n",
        "\n",
        "Con esto solo hay que ahora generar los modelos de kmeans, evaluar y pintar la gráfica para los valores de ``k`` que establezcais.\n",
        "\n",
        "\n"
      ]
    },
    {
      "cell_type": "code",
      "execution_count": null,
      "metadata": {
        "id": "DV0IXFncQcwO"
      },
      "outputs": [],
      "source": [
        "from sklearn.cluster import KMeans\n",
        "\n",
        "scores = []\n",
        "k_values = # definir un rango\n",
        "for a in k_values:\n",
        "\n",
        "    # Definir Kmeans y ajustar\n",
        "    # Guardar la predicción\n",
        "\n",
        "sns.lineplot(x=k_values, y=scores)"
      ]
    },
    {
      "cell_type": "markdown",
      "metadata": {
        "id": "OSgPG286QcwO"
      },
      "source": [
        "Con el valor que hayáis obtenido de la gráfica, podéis obtener una buena aproximación de Kmeans y con ello podemos pasar a explorar cómo de bien han separado la información los distintos clusters. Para ello, se va a hacer un ``catplot``, seaborn os lo hará solito. Con esto lo que se pretende ver es la distribución de la varaible a predecir en función del cluster que haya determinado Kmeans."
      ]
    },
    {
      "cell_type": "code",
      "execution_count": null,
      "metadata": {
        "id": "Wa7XfETyQcwO",
        "scrolled": false
      },
      "outputs": [],
      "source": [
        "# Aprender Kmeans con el valor de K obtenido.\n",
        "\n",
        "kmeans = # Definir y entrenar Kmeans.\n",
        "\n",
        "# Preparar el catplot.\n",
        "\n",
        "\n",
        "# Pintar.\n",
        "ax = sns.catplot(col=, x=, data=, kind='count',col_wrap=4)"
      ]
    },
    {
      "cell_type": "markdown",
      "metadata": {
        "id": "JzMUKFwzQcwO"
      },
      "source": [
        "Vamos a ver qué tal queda esto pintado. Para ello, repetimos el scatterplot de antes pero usando como color el cluster asignado por kmeans."
      ]
    },
    {
      "cell_type": "code",
      "execution_count": null,
      "metadata": {
        "id": "IjhjuexcQcwO",
        "scrolled": true
      },
      "outputs": [],
      "source": [
        "# Entrenar PCA para representar.\n",
        "\n",
        "# Usar un color por cada cluster.\n"
      ]
    },
    {
      "cell_type": "markdown",
      "metadata": {
        "id": "v0q-ZDhQQcwO"
      },
      "source": [
        "¿Es bastante parecido no? No es tan bueno como el Random Forest, pero ha conseguido identificar bastante bien los distintos puntos del dataset sin utilizar las etiquetas. De hecho, el diagrama de factor que hemos visto antes muestra que solo un par de clusters son imprecisos. Si no hubieramos tenido etiquetas esta aproximacion nos hubiera ayudado mucho a clasificar los distintos tipos de hongos."
      ]
    }
  ],
  "metadata": {
    "colab": {
      "provenance": []
    },
    "kernelspec": {
      "display_name": ".venv-proj8",
      "language": "python",
      "name": "python3"
    },
    "language_info": {
      "codemirror_mode": {
        "name": "ipython",
        "version": 3
      },
      "file_extension": ".py",
      "mimetype": "text/x-python",
      "name": "python",
      "nbconvert_exporter": "python",
      "pygments_lexer": "ipython3",
      "version": "3.13.2"
    }
  },
  "nbformat": 4,
  "nbformat_minor": 0
}
